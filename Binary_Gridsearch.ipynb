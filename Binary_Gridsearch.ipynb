{
 "cells": [
  {
   "cell_type": "code",
   "execution_count": 4,
   "metadata": {},
   "outputs": [],
   "source": [
    "import Functions as F\n",
    "import pandas as pd\n",
    "\n",
    "from sklearn.ensemble import RandomForestClassifier\n",
    "from sklearn.linear_model import RidgeClassifier, LogisticRegression\n",
    "\n",
    "from sklearn.discriminant_analysis import LinearDiscriminantAnalysis\n",
    "from sklearn.svm import SVC,LinearSVC\n",
    "\n",
    "from sklearn.model_selection import RepeatedStratifiedKFold, cross_val_score, GridSearchCV, RandomizedSearchCV\n",
    "from sklearn.metrics import classification_report, plot_confusion_matrix, confusion_matrix"
   ]
  },
  {
   "cell_type": "code",
   "execution_count": 5,
   "metadata": {},
   "outputs": [
    {
     "name": "stdout",
     "output_type": "stream",
     "text": [
      "Original Value Counts\n",
      "1.0    2978\n",
      "0.0     570\n",
      "Name: Emotion_New, dtype: int64\n",
      "~~~~~~~~~~~~~~~~~~~~~~~~~~~~~~~~~~~~\n",
      "Final Resampled Value Counts\n",
      "1.0    600\n",
      "0.0    570\n",
      "Name: Emotion_New, dtype: int64\n",
      "~~~~~~~~~~~~~~~~~~~~~~~~~~~~~~~~~~~~\n",
      "Finished Pickling\n"
     ]
    },
    {
     "data": {
      "text/plain": [
       "(array([[0, 0, 0, ..., 0, 0, 0],\n",
       "        [0, 0, 0, ..., 0, 0, 0],\n",
       "        [0, 0, 0, ..., 0, 0, 0],\n",
       "        ...,\n",
       "        [0, 0, 0, ..., 0, 0, 0],\n",
       "        [0, 0, 0, ..., 0, 0, 0],\n",
       "        [0, 0, 0, ..., 0, 0, 0]], dtype=int64), array([[0, 0, 0, ..., 0, 0, 0],\n",
       "        [0, 0, 0, ..., 0, 0, 0],\n",
       "        [0, 0, 0, ..., 0, 0, 0],\n",
       "        ...,\n",
       "        [0, 0, 0, ..., 0, 0, 0],\n",
       "        [0, 0, 0, ..., 0, 0, 0],\n",
       "        [0, 0, 0, ..., 0, 0, 0]], dtype=int64), 234     1.0\n",
       " 200     1.0\n",
       " 292     1.0\n",
       " 1037    0.0\n",
       " 1119    0.0\n",
       "        ... \n",
       " 353     1.0\n",
       " 211     1.0\n",
       " 490     1.0\n",
       " 879     0.0\n",
       " 874     0.0\n",
       " Name: Emotion_New, Length: 994, dtype: float64, 220    1.0\n",
       " 128    1.0\n",
       " 960    0.0\n",
       " 578    1.0\n",
       " 913    0.0\n",
       "       ... \n",
       " 545    1.0\n",
       " 328    1.0\n",
       " 712    0.0\n",
       " 550    1.0\n",
       " 993    0.0\n",
       " Name: Emotion_New, Length: 176, dtype: float64)"
      ]
     },
     "execution_count": 5,
     "metadata": {},
     "output_type": "execute_result"
    }
   ],
   "source": [
    "raw_df = F.import_tweet_data()\n",
    "F.clean_split(2, raw_df)"
   ]
  },
  {
   "cell_type": "code",
   "execution_count": 6,
   "metadata": {},
   "outputs": [],
   "source": [
    "X_train, X_test, y_train, y_test = F.get_pickles(2)"
   ]
  },
  {
   "cell_type": "code",
   "execution_count": 7,
   "metadata": {},
   "outputs": [
    {
     "name": "stdout",
     "output_type": "stream",
     "text": [
      "       Results\n",
      "~~~~~~~~~~~~~~~~~~~~~\n",
      "Train Score: 0.98\n",
      "---\n",
      "Test Score: 0.73\n",
      "\n",
      "\n",
      "\n"
     ]
    }
   ],
   "source": [
    "lr = LogisticRegression(n_jobs = 2)\n",
    "\n",
    "lr.fit(X_train, y_train)\n",
    "\n",
    "print(f\"\"\"       Results\n",
    "~~~~~~~~~~~~~~~~~~~~~\n",
    "Train Score: {lr.score(X_train, y_train):.2f}\n",
    "---\n",
    "Test Score: {lr.score(X_test, y_test):.2f}\n",
    "\n",
    "\n",
    "\"\"\")"
   ]
  },
  {
   "cell_type": "code",
   "execution_count": 12,
   "metadata": {},
   "outputs": [
    {
     "name": "stdout",
     "output_type": "stream",
     "text": [
      "       Results\n",
      "~~~~~~~~~~~~~~~~~~~~~\n",
      "Train Score: 0.99\n",
      "---\n",
      "Test Score: 0.74\n",
      "\n",
      "\n",
      "\n"
     ]
    }
   ],
   "source": [
    "r = RidgeClassifier(random_state = 10)\n",
    "\n",
    "r.fit(X_train, y_train)\n",
    "\n",
    "print(f\"\"\"       Results\n",
    "~~~~~~~~~~~~~~~~~~~~~\n",
    "Train Score: {r.score(X_train, y_train):.2f}\n",
    "---\n",
    "Test Score: {r.score(X_test, y_test):.2f}\n",
    "\n",
    "\n",
    "\"\"\")"
   ]
  },
  {
   "cell_type": "code",
   "execution_count": 11,
   "metadata": {},
   "outputs": [
    {
     "name": "stdout",
     "output_type": "stream",
     "text": [
      "       Results\n",
      "~~~~~~~~~~~~~~~~~~~~~\n",
      "Train Score: 1.00\n",
      "---\n",
      "Test Score: 0.77\n",
      "\n",
      "\n",
      "\n"
     ]
    }
   ],
   "source": [
    "rf = RandomForestClassifier(random_state = 10)\n",
    "\n",
    "rf.fit(X_train, y_train)\n",
    "\n",
    "print(f\"\"\"       Results\n",
    "~~~~~~~~~~~~~~~~~~~~~\n",
    "Train Score: {rf.score(X_train, y_train):.2f}\n",
    "---\n",
    "Test Score: {rf.score(X_test, y_test):.2f}\n",
    "\n",
    "\n",
    "\"\"\")"
   ]
  },
  {
   "cell_type": "code",
   "execution_count": 14,
   "metadata": {},
   "outputs": [
    {
     "name": "stdout",
     "output_type": "stream",
     "text": [
      "{'bootstrap': False, 'criterion': 'gini', 'max_depth': 20, 'max_features': 'auto', 'min_samples_leaf': 5, 'min_samples_split': 2, 'random_state': 42}\n"
     ]
    }
   ],
   "source": [
    "forest_params = {\n",
    "    'criterion' : ['gini' , 'entropy'],\n",
    "    'max_depth' : [5 , 20], \n",
    "    'min_samples_split' : [2, 10],\n",
    "    'min_samples_leaf' : [5, 10],\n",
    "    'max_features' : ['auto', 'sqrt', 'log2', None], \n",
    "    'bootstrap' : [True, False],\n",
    "    'random_state' : [10, 42]\n",
    "}\n",
    "\n",
    "forest_clf = GridSearchCV(estimator = RandomForestClassifier(), param_grid = forest_params)\n",
    "\n",
    "forest_clf.fit(X_train, y_train)\n",
    "\n",
    "print(forest_clf.best_params_)"
   ]
  },
  {
   "cell_type": "code",
   "execution_count": 17,
   "metadata": {},
   "outputs": [
    {
     "name": "stdout",
     "output_type": "stream",
     "text": [
      "       Results\n",
      "~~~~~~~~~~~~~~~~~~~~~\n",
      "Train Score: 0.76\n",
      "---\n",
      "Test Score: 0.73\n",
      "\n",
      "\n",
      "\n"
     ]
    }
   ],
   "source": [
    "print(f\"\"\"       Results\n",
    "~~~~~~~~~~~~~~~~~~~~~\n",
    "Train Score: {forest_clf.score(X_train, y_train):.2f}\n",
    "---\n",
    "Test Score: {forest_clf.score(X_test, y_test):.2f}\n",
    "\n",
    "\n",
    "\"\"\")"
   ]
  },
  {
   "cell_type": "code",
   "execution_count": 19,
   "metadata": {},
   "outputs": [
    {
     "name": "stdout",
     "output_type": "stream",
     "text": [
      "{'bootstrap': False, 'criterion': 'gini', 'max_depth': 20, 'max_features': 'auto', 'min_samples_leaf': 5, 'min_samples_split': 2, 'random_state': 42}\n",
      "       Results\n",
      "~~~~~~~~~~~~~~~~~~~~~\n",
      "Train Score: 0.76\n",
      "---\n",
      "Test Score: 0.73\n",
      "\n",
      "\n",
      "\n"
     ]
    }
   ],
   "source": [
    "forest_2_params = {\n",
    "    'max_depth' : [15, 20, 30], \n",
    "    'min_samples_split' : [1, 2],\n",
    "    'min_samples_leaf' : [5, 10],\n",
    "    'random_state' : [10, 42], \n",
    "    \n",
    "    'criterion' : ['gini'],\n",
    "    'max_features' : ['auto'], \n",
    "    'bootstrap' : [False]\n",
    "}\n",
    "\n",
    "forest_2_clf = GridSearchCV(estimator = RandomForestClassifier(), param_grid = forest_params)\n",
    "\n",
    "forest_2_clf.fit(X_train, y_train)\n",
    "\n",
    "print(forest_2_clf.best_params_)\n",
    "\n",
    "print(f\"\"\"       Results\n",
    "~~~~~~~~~~~~~~~~~~~~~\n",
    "Train Score: {forest_2_clf.score(X_train, y_train):.2f}\n",
    "---\n",
    "Test Score: {forest_2_clf.score(X_test, y_test):.2f}\n",
    "\n",
    "\n",
    "\"\"\")"
   ]
  },
  {
   "cell_type": "code",
   "execution_count": null,
   "metadata": {},
   "outputs": [
    {
     "name": "stdout",
     "output_type": "stream",
     "text": [
      "Fitting 5 folds for each of 256 candidates, totalling 1280 fits\n"
     ]
    },
    {
     "name": "stderr",
     "output_type": "stream",
     "text": [
      "[Parallel(n_jobs=2)]: Using backend LokyBackend with 2 concurrent workers.\n",
      "[Parallel(n_jobs=2)]: Done  46 tasks      | elapsed:   15.3s\n"
     ]
    }
   ],
   "source": [
    "forest_3_params = {\n",
    "    'max_depth' : [18, 20, 25],\n",
    "    'random_state' : [10, 42], \n",
    "    \n",
    "    'criterion' : ['gini'],\n",
    "    'max_features' : ['auto'], \n",
    "    'bootstrap' : [False],\n",
    "    'min_samples_leaf' : [2], \n",
    "    'min_samples_split' : [2]\n",
    "}\n",
    "\n",
    "forest_3_clf = GridSearchCV(estimator = RandomForestClassifier(), n_jobs = 2, param_grid = forest_params, verbose=1)\n",
    "\n",
    "forest_3_clf.fit(X_train, y_train)\n",
    "\n",
    "print(forest_3_clf.best_params_)\n",
    "\n",
    "print(f\"\"\"       Results\n",
    "~~~~~~~~~~~~~~~~~~~~~\n",
    "Train Score: {forest_3_clf.score(X_train, y_train):.2f}\n",
    "---\n",
    "Test Score: {forest_3_clf.score(X_test, y_test):.2f}\n",
    "\n",
    "\n",
    "\"\"\")"
   ]
  },
  {
   "cell_type": "code",
   "execution_count": null,
   "metadata": {},
   "outputs": [],
   "source": []
  }
 ],
 "metadata": {
  "kernelspec": {
   "display_name": "learn-env",
   "language": "python",
   "name": "learn-env"
  },
  "language_info": {
   "codemirror_mode": {
    "name": "ipython",
    "version": 3
   },
   "file_extension": ".py",
   "mimetype": "text/x-python",
   "name": "python",
   "nbconvert_exporter": "python",
   "pygments_lexer": "ipython3",
   "version": "3.6.9"
  }
 },
 "nbformat": 4,
 "nbformat_minor": 4
}
