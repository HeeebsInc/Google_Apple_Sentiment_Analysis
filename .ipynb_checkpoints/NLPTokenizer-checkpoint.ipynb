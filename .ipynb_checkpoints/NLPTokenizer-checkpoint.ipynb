{
 "cells": [
  {
   "cell_type": "code",
   "execution_count": 1,
   "metadata": {},
   "outputs": [
    {
     "name": "stderr",
     "output_type": "stream",
     "text": [
      "In c:\\users\\heeeb\\anaconda3\\envs\\codeacademy\\lib\\site-packages\\matplotlib\\mpl-data\\stylelib\\_classic_test.mplstyle: \n",
      "The text.latex.preview rcparam was deprecated in Matplotlib 3.3 and will be removed two minor releases later.\n",
      "In c:\\users\\heeeb\\anaconda3\\envs\\codeacademy\\lib\\site-packages\\matplotlib\\mpl-data\\stylelib\\_classic_test.mplstyle: \n",
      "The mathtext.fallback_to_cm rcparam was deprecated in Matplotlib 3.3 and will be removed two minor releases later.\n",
      "In c:\\users\\heeeb\\anaconda3\\envs\\codeacademy\\lib\\site-packages\\matplotlib\\mpl-data\\stylelib\\_classic_test.mplstyle: Support for setting the 'mathtext.fallback_to_cm' rcParam is deprecated since 3.3 and will be removed two minor releases later; use 'mathtext.fallback : 'cm' instead.\n",
      "In c:\\users\\heeeb\\anaconda3\\envs\\codeacademy\\lib\\site-packages\\matplotlib\\mpl-data\\stylelib\\_classic_test.mplstyle: \n",
      "The validate_bool_maybe_none function was deprecated in Matplotlib 3.3 and will be removed two minor releases later.\n",
      "In c:\\users\\heeeb\\anaconda3\\envs\\codeacademy\\lib\\site-packages\\matplotlib\\mpl-data\\stylelib\\_classic_test.mplstyle: \n",
      "The savefig.jpeg_quality rcparam was deprecated in Matplotlib 3.3 and will be removed two minor releases later.\n",
      "In c:\\users\\heeeb\\anaconda3\\envs\\codeacademy\\lib\\site-packages\\matplotlib\\mpl-data\\stylelib\\_classic_test.mplstyle: \n",
      "The keymap.all_axes rcparam was deprecated in Matplotlib 3.3 and will be removed two minor releases later.\n",
      "In c:\\users\\heeeb\\anaconda3\\envs\\codeacademy\\lib\\site-packages\\matplotlib\\mpl-data\\stylelib\\_classic_test.mplstyle: \n",
      "The animation.avconv_path rcparam was deprecated in Matplotlib 3.3 and will be removed two minor releases later.\n",
      "In c:\\users\\heeeb\\anaconda3\\envs\\codeacademy\\lib\\site-packages\\matplotlib\\mpl-data\\stylelib\\_classic_test.mplstyle: \n",
      "The animation.avconv_args rcparam was deprecated in Matplotlib 3.3 and will be removed two minor releases later.\n"
     ]
    }
   ],
   "source": [
    "import pandas as pd\n",
    "from Functions import clean_split\n",
    "# pd.options.display.max_rows = 35 \n",
    "# pd.options.display.max_columns = "
   ]
  },
  {
   "cell_type": "code",
   "execution_count": 2,
   "metadata": {
    "scrolled": true
   },
   "outputs": [
    {
     "data": {
      "text/html": [
       "<div>\n",
       "<style scoped>\n",
       "    .dataframe tbody tr th:only-of-type {\n",
       "        vertical-align: middle;\n",
       "    }\n",
       "\n",
       "    .dataframe tbody tr th {\n",
       "        vertical-align: top;\n",
       "    }\n",
       "\n",
       "    .dataframe thead th {\n",
       "        text-align: right;\n",
       "    }\n",
       "</style>\n",
       "<table border=\"1\" class=\"dataframe\">\n",
       "  <thead>\n",
       "    <tr style=\"text-align: right;\">\n",
       "      <th></th>\n",
       "      <th>tweet_text</th>\n",
       "      <th>emotion_in_tweet_is_directed_at</th>\n",
       "      <th>is_there_an_emotion_directed_at_a_brand_or_product</th>\n",
       "    </tr>\n",
       "  </thead>\n",
       "  <tbody>\n",
       "    <tr>\n",
       "      <th>0</th>\n",
       "      <td>.@wesley83 I have a 3G iPhone. After 3 hrs twe...</td>\n",
       "      <td>iPhone</td>\n",
       "      <td>Negative emotion</td>\n",
       "    </tr>\n",
       "    <tr>\n",
       "      <th>1</th>\n",
       "      <td>@jessedee Know about @fludapp ? Awesome iPad/i...</td>\n",
       "      <td>iPad or iPhone App</td>\n",
       "      <td>Positive emotion</td>\n",
       "    </tr>\n",
       "    <tr>\n",
       "      <th>2</th>\n",
       "      <td>@swonderlin Can not wait for #iPad 2 also. The...</td>\n",
       "      <td>iPad</td>\n",
       "      <td>Positive emotion</td>\n",
       "    </tr>\n",
       "    <tr>\n",
       "      <th>3</th>\n",
       "      <td>@sxsw I hope this year's festival isn't as cra...</td>\n",
       "      <td>iPad or iPhone App</td>\n",
       "      <td>Negative emotion</td>\n",
       "    </tr>\n",
       "    <tr>\n",
       "      <th>4</th>\n",
       "      <td>@sxtxstate great stuff on Fri #SXSW: Marissa M...</td>\n",
       "      <td>Google</td>\n",
       "      <td>Positive emotion</td>\n",
       "    </tr>\n",
       "  </tbody>\n",
       "</table>\n",
       "</div>"
      ],
      "text/plain": [
       "                                          tweet_text  \\\n",
       "0  .@wesley83 I have a 3G iPhone. After 3 hrs twe...   \n",
       "1  @jessedee Know about @fludapp ? Awesome iPad/i...   \n",
       "2  @swonderlin Can not wait for #iPad 2 also. The...   \n",
       "3  @sxsw I hope this year's festival isn't as cra...   \n",
       "4  @sxtxstate great stuff on Fri #SXSW: Marissa M...   \n",
       "\n",
       "  emotion_in_tweet_is_directed_at  \\\n",
       "0                          iPhone   \n",
       "1              iPad or iPhone App   \n",
       "2                            iPad   \n",
       "3              iPad or iPhone App   \n",
       "4                          Google   \n",
       "\n",
       "  is_there_an_emotion_directed_at_a_brand_or_product  \n",
       "0                                   Negative emotion  \n",
       "1                                   Positive emotion  \n",
       "2                                   Positive emotion  \n",
       "3                                   Negative emotion  \n",
       "4                                   Positive emotion  "
      ]
     },
     "execution_count": 2,
     "metadata": {},
     "output_type": "execute_result"
    }
   ],
   "source": [
    "df = pd.read_csv('data/TweetsOriginal.csv', encoding = 'ISO-8859-1')\n",
    "df.head()"
   ]
  },
  {
   "cell_type": "code",
   "execution_count": 3,
   "metadata": {},
   "outputs": [],
   "source": [
    "import pandas as pd\n",
    "import numpy as np \n",
    "from sklearn.model_selection import train_test_split\n",
    "from tqdm import tqdm \n",
    "import nltk \n",
    "from nltk.tokenize import RegexpTokenizer, word_tokenize\n",
    "from nltk.corpus import stopwords, words, names\n",
    "from sklearn.feature_extraction.text import CountVectorizer\n",
    "import pickle\n",
    "from sklearn.utils import resample\n",
    "from nltk.stem.porter import PorterStemmer\n",
    "import matplotlib.pyplot as plt\n",
    "from sklearn.model_selection import RepeatedStratifiedKFold, cross_val_score, GridSearchCV, RandomizedSearchCV\n",
    "from sklearn.metrics import classification_report, plot_confusion_matrix, confusion_matrix\n",
    "from sklearn.ensemble import StackingClassifier\n",
    "from sklearn.linear_model import LogisticRegression\n",
    "import re\n",
    "from sklearn.cluster import KMeans\n",
    "\n",
    "\n",
    "def plot_model_results(results, model_names, filepath, figure_title, figsize = (10, 8)):\n",
    "    \n",
    "    \"\"\"Plots and saves an image of the plot.\n",
    "    Input:\n",
    "    results: the results of the models, gained from test_models()\n",
    "    model_names: the names of models used, gained from test_models()\n",
    "    filepath: the filepath for the graph image to be saved to\n",
    "    \"\"\"\n",
    "    \n",
    "    plt.figure(figsize = figsize)\n",
    "    plt.boxplot(results, labels = model_names, showmeans = True)\n",
    "    plt.title(f'{figure_title}')\n",
    "    plt.ylabel('Accuracy'); plt.xlabel('Model')\n",
    "    plt.savefig(filepath)\n",
    "    plt.show()\n",
    "\n",
    "def test_models(x_train, y_train, models, n_jobs = 2):\n",
    "    \"\"\"\n",
    "    Test all models given.\n",
    "    \n",
    "    This will test each model on its own using RepeatedStratifiedKFold then it will test a stacking classifier with every single model in the dictionary.  \n",
    "    \n",
    "    returns: vanilla_dict (contains results and model names)\"\"\"\n",
    "    results = []\n",
    "    model_names = []\n",
    "    pbar = tqdm(models.items())\n",
    "    \n",
    "    for model, m in pbar: \n",
    "        pbar.set_description(f'Evaluating {model.upper()}')\n",
    "        cv = RepeatedStratifiedKFold(n_splits = 10, n_repeats = 10)\n",
    "        scores = cross_val_score(m, x_train, y_train, scoring = 'accuracy', cv = cv, n_jobs = n_jobs, \n",
    "                                 error_score = 'raise')\n",
    "        results.append(scores)\n",
    "        model_names.append(model)\n",
    "    vanilla_dict = {i:y for i,y in zip(model_names, results)}\n",
    "   \n",
    "    return vanilla_dict\n",
    "\n",
    "\n",
    "def stacked_model(models):\n",
    "    \"\"\"Creates a stacked model given a dictionary of SciKitLearn models\n",
    "    -----------------------------------------\n",
    "    Input: \n",
    "        models: Dictionary containing the model name and function.\n",
    "    \n",
    "    Output: \n",
    "        stack_model: A new dictionary containing a SciKitLearn StackingClassifier object\n",
    "    -----------------------------------------\"\"\"\n",
    "\n",
    "    stack_m = [] \n",
    "    for model, m in models.items(): \n",
    "        stack_m.append((model, m))\n",
    "    stack_model = StackingClassifier(estimators = stack_m, final_estimator = LogisticRegression(), cv = 3)\n",
    "    models['stacked'] = stack_model\n",
    "    \n",
    "    return models\n",
    "\n",
    "\n",
    "def save_cv_results(model_dict, filename):\n",
    "    \"\"\"\n",
    "    Pickles the model's results\n",
    "    \n",
    "    Input: \n",
    "    \n",
    "    model_names: list of model names \n",
    "    results: list of results \n",
    "    filename: str, path for the file to be saved\n",
    "    \n",
    "    \"\"\"\n",
    "    pickle.dump(model_dict, open(filename, 'wb'))\n",
    "    return 'Done'\n",
    "\n",
    "\n",
    "def import_tweet_data():\n",
    "    \"\"\"Imports the tweet data from the 'data' folder, \n",
    "    with ISO-8859-1 encoding.\n",
    "    \n",
    "    Output: A Pandas DataFrame\"\"\"\n",
    "    \n",
    "    df = pd.read_csv('data/TweetsOriginal.csv', encoding = 'ISO-8859-1' )\n",
    "    return df\n",
    "    \n",
    "\n",
    "def run_gridsearch(classifier, X_train, y_train, X_test, y_test, params, n_jobs = 2, verbose = 0):\n",
    "    \n",
    "    \"\"\"A function for performing a grid search using a random forest model.\n",
    "    Uses the training data and outputs the scores for the train and test data.\n",
    "    \n",
    "    Input: \n",
    "    \n",
    "    classifier: classifier object\n",
    "    X_train: The training features of the dataset\n",
    "    y_train: The training class for the dataset\n",
    "    X_test: The test features of the dataset\n",
    "    y_test: The test classes of the dataset\n",
    "   \n",
    "    params: The parameters for classifier grid search\n",
    "    n_jobs: n_jobs\n",
    "    verbose: verbose\n",
    "    \n",
    "    Output:\n",
    "    \n",
    "    forest_clf: The Grid Search object\n",
    "    \"\"\"\n",
    "    \n",
    "    clf = GridSearchCV(\n",
    "        estimator = classifier,\n",
    "        param_grid = params,\n",
    "        n_jobs = n_jobs,\n",
    "        verbose = verbose, error_score = 0.0\n",
    "    )\n",
    "    \n",
    "    clf.fit(X_train, y_train)\n",
    "    \n",
    "    print(f\"\"\"       Results\n",
    "~~~~~~~~~~~~~~~~~~~~~\n",
    "Train Score: {clf.score(X_train, y_train):.2f}\n",
    "---\n",
    "Test Score: {clf.score(X_test, y_test):.2f}\n",
    "Best Parameters:\n",
    "{clf.best_params_}\n",
    "\"\"\")\n",
    "    \n",
    "    return clf\n",
    "\n",
    "\n",
    "\n",
    "def clean_split(df): \n",
    "    '''This function takes in the original tweet dataframe and does the following\n",
    "    \n",
    "    1. Change column names\n",
    "    2. Removes NA values within the columns Tweet and Emotion \n",
    "    3. Removes unwanted characters ($,@,#, etc.) \n",
    "    4. Applies a stemming technique to normalize the words\n",
    "    5. Applies a count vectorizer on the train data \n",
    "    6. Save the count vectorizer as a pickle so that it can be used to transform new data \n",
    "    7. Save the train and test df to csv for visualizations\n",
    "    8. Resample the train and test so the targets are balanced\n",
    "    9. return x_train, x_test, y_train, y_test'''\n",
    "    \n",
    "    new_df = df\n",
    "    \n",
    "    new_df.rename(columns = {\n",
    "        'tweet_text': 'Text', \n",
    "         'emotion_in_tweet_is_directed_at' : 'Item', \n",
    "        'is_there_an_emotion_directed_at_a_brand_or_product' : 'Emotion'\n",
    "    }, inplace = True)\n",
    "    \n",
    "    new_df['Emotion_New'] = new_df.Emotion.replace(to_replace = {\n",
    "        'Negative emotion' : 0,\n",
    "        'Positive emotion' : 1,\n",
    "        'No emotion toward brand or product': None,\n",
    "        \"I can't tell\" : None\n",
    "    }\n",
    "    )\n",
    "    \n",
    "    #dropping na in columns Text and Emotion\n",
    "    new_df.dropna(subset = ['Text', 'Emotion_New'], inplace = True)\n",
    " \n",
    "\n",
    "    eng_words = set(words.words())\n",
    "    eng_names = [i[0] for i in names.words('male.txt')] + [i[0] for i in names.words('female.txt')]\n",
    " \n",
    "    tweets = new_df.Text.values\n",
    "    new_tweets = []\n",
    "    for sent in tweets:\n",
    "        new_tweets.append(' '.join(re.sub(\"(@[A-Za-z0-9]+)|([^0-9A-Za-z \\t])|(\\w+:\\/\\/\\S+)\",\" \",sent.lower()).split()))\n",
    "    new_df.Text = new_tweets\n",
    "    \n",
    "    #removes unwanted characters\n",
    "    word_tokenizer = RegexpTokenizer(\"([a-zA-Z&]+(?:'[a-z]+)?)\")\n",
    "    word_stem = PorterStemmer()\n",
    "    new_df.Text= new_df.Text.map(lambda x: word_tokenizer.tokenize(x.lower()))\n",
    "    #includes only stemmed words\n",
    "    new_df.Text = new_df.Text.map(lambda x: ' '.join([word_stem.stem(i) for i in x if len(i) > 2 and i not in eng_names]))\n",
    "\n",
    "    \n",
    "    print('Original Value Counts')\n",
    "    print(new_df.Emotion_New.value_counts())\n",
    "    print('~~~~~~~~~~~~~~~~~~~~~~~~~~~~~~~~~~~~')\n",
    "    pos_df = new_df[new_df.Emotion_New == 1]\n",
    "    neg_df = new_df[new_df.Emotion_New == 0]\n",
    "\n",
    "    #resample data based on target\n",
    "    resample_pos = resample(pos_df, n_samples = 600, random_state = 10, replace = False)\n",
    "    new_df = resample_pos.append(neg_df, ignore_index = True)\n",
    "    print('Final Resampled Value Counts')\n",
    "    print(new_df.Emotion_New.value_counts())\n",
    "    print('~~~~~~~~~~~~~~~~~~~~~~~~~~~~~~~~~~~~')\n",
    "    \n",
    "   \n",
    "    #split into test and trains\n",
    "    x_train, x_test, y_train, y_test = train_test_split(new_df[['Item', 'Text']], new_df.Emotion_New, stratify = new_df.Emotion_New,                     \n",
    "                                                        train_size = .85, random_state = 10)\n",
    "    #removing stop words\n",
    "    new_stop = ['abacus', 'yr', 'acerbic', 'bcet', 'beechwood', 'bicycle', 'brian', 'ce', 'mngr', \n",
    "               'rewardswagon', 'loui', 'csuitecsourc', 'wjchat', 'peter', 'bbq', 'au',  'awesometim', 'bankinnov', \n",
    "                'barton', 'boooo', 'bookbook', 'zzz', 'william', 'tomlinson', 'orlando', 'oo', 'yeaayyy', 'thursday', 'monday', \n",
    "               'friday', 'fri', 'saturday', 'sunday', 'tuesday', 'austin']\n",
    "    stop = stopwords.words('english') + new_stop\n",
    "    vectorizer= CountVectorizer(stop_words = stop, max_features = 6000, ngram_range=(1,1), min_df = 3)\n",
    "   \n",
    "    #creates a test and train df for visualization\n",
    "    clean_train = x_train.Text.values\n",
    "    train_items = x_train.Item.values\n",
    "    clean_test = x_test.Text.values\n",
    "    test_items = x_test.Item.values\n",
    "    vectorizer.fit(clean_train)\n",
    " \n",
    "    #saves vectorizer as a pickle for future use\n",
    "    pickle.dump(vectorizer, open('../Pickles/vectorizer.p', 'wb'))\n",
    "\n",
    "    train_features =vectorizer.transform(clean_train).toarray()\n",
    "    test_features = vectorizer.transform(clean_test).toarray()\n",
    "    \n",
    "       \n",
    "    kmeans = KMeans(n_clusters = 6)\n",
    "    kmeans.fit(train_features)\n",
    "    train_clusters = kmeans.predict(train_features)\n",
    "    test_clusters = kmeans.predict(test_features)\n",
    "    \n",
    "    train_df = pd.DataFrame(train_features, columns = vectorizer.get_feature_names())\n",
    "    train_df['target'] = y_train.values\n",
    "    train_df['Item'] = train_items\n",
    "    train_df['Cluster'] = train_clusters\n",
    "    \n",
    "    test_df = pd.DataFrame(test_features, columns = vectorizer.get_feature_names())\n",
    "    test_df['target'] = y_test.values\n",
    "    test_df['Item'] = test_items\n",
    "    test_df['Cluster'] = test_clusters\n",
    "    \n",
    "    #saves test and train df for visualizations\n",
    "    train_df.to_csv('data/TrainDF.csv', index = False)\n",
    "    test_df.to_csv('data/TestDF.csv', index = False)\n",
    "    \n",
    "    x_train = train_df[[i for i in train_df.columns if i not in ['target', 'Item']]].values\n",
    "    y_train = train_df[['target']].values.ravel()\n",
    "    \n",
    "    x_test = test_df[[i for i in test_df.columns if i not in ['target', 'Item']]].values\n",
    "    y_test = test_df[['target']].values.ravel()\n",
    "    \n",
    "    return x_train, x_test, y_train, y_test"
   ]
  },
  {
   "cell_type": "code",
   "execution_count": 4,
   "metadata": {},
   "outputs": [
    {
     "name": "stdout",
     "output_type": "stream",
     "text": [
      "Original Value Counts\n",
      "1.0    2978\n",
      "0.0     570\n",
      "Name: Emotion_New, dtype: int64\n",
      "~~~~~~~~~~~~~~~~~~~~~~~~~~~~~~~~~~~~\n",
      "Final Resampled Value Counts\n",
      "1.0    600\n",
      "0.0    570\n",
      "Name: Emotion_New, dtype: int64\n",
      "~~~~~~~~~~~~~~~~~~~~~~~~~~~~~~~~~~~~\n"
     ]
    }
   ],
   "source": [
    "x_train, x_test, y_train, y_test = clean_split(df)"
   ]
  },
  {
   "cell_type": "code",
   "execution_count": 5,
   "metadata": {},
   "outputs": [
    {
     "name": "stdout",
     "output_type": "stream",
     "text": [
      "Vanilla Train: 0.9255533199195171\n",
      "Vanilla Test: 0.8011363636363636\n",
      "~~~~~~~~~~~~~~~~~~~~~~~~~~~~~~~~~~~~~~~~~~~~~~~~~~~\n",
      "Vanilla Train: 0.9647887323943662\n",
      "Vanilla Test: 0.8011363636363636\n",
      "~~~~~~~~~~~~~~~~~~~~~~~~~~~~~~~~~~~~~~~~~~~~~~~~~~~\n"
     ]
    },
    {
     "data": {
      "text/plain": [
       "<sklearn.metrics._plot.confusion_matrix.ConfusionMatrixDisplay at 0x2411fb15d08>"
      ]
     },
     "execution_count": 5,
     "metadata": {},
     "output_type": "execute_result"
    },
    {
     "data": {
      "image/png": "[encoded data removed]",
      "text/plain": [
       "<Figure size 432x288 with 2 Axes>"
      ]
     },
     "metadata": {
      "needs_background": "light"
     },
     "output_type": "display_data"
    },
    {
     "data": {
      "image/png": "[encoded data removed]",
      "text/plain": [
       "<Figure size 432x288 with 2 Axes>"
      ]
     },
     "metadata": {
      "needs_background": "light"
     },
     "output_type": "display_data"
    }
   ],
   "source": [
    "from sklearn.linear_model import RidgeClassifier, LogisticRegression \n",
    "\n",
    "log = LogisticRegression()\n",
    "log.fit(x_train, y_train) \n",
    "\n",
    "print(f'Vanilla Train: {log.score(x_train, y_train)}')\n",
    "print(f'Vanilla Test: {log.score(x_test, y_test)}')\n",
    "print('~~~~~~~~~~~~~~~~~~~~~~~~~~~~~~~~~~~~~~~~~~~~~~~~~~~')\n",
    "\n",
    "\n",
    "\n",
    "ridge = RidgeClassifier(random_state = 10)\n",
    "ridge.fit(x_train, y_train) \n",
    "\n",
    "print(f'Vanilla Train: {ridge.score(x_train, y_train)}')\n",
    "print(f'Vanilla Test: {ridge.score(x_test, y_test)}')\n",
    "print('~~~~~~~~~~~~~~~~~~~~~~~~~~~~~~~~~~~~~~~~~~~~~~~~~~~')\n",
    "\n",
    "\n",
    "from sklearn.metrics import plot_confusion_matrix\n",
    "\n",
    "plot_confusion_matrix(log, x_train, y_train, cmap = 'Blues')\n",
    "plot_confusion_matrix(log, x_test, y_test, cmap = 'Blues')"
   ]
  },
  {
   "cell_type": "code",
   "execution_count": 6,
   "metadata": {},
   "outputs": [
    {
     "ename": "AssertionError",
     "evalue": "",
     "output_type": "error",
     "traceback": [
      "\u001b[1;31m---------------------------------------------------------------------------\u001b[0m",
      "\u001b[1;31mAssertionError\u001b[0m                            Traceback (most recent call last)",
      "\u001b[1;32m<ipython-input-6-a871fdc9ebee>\u001b[0m in \u001b[0;36m<module>\u001b[1;34m\u001b[0m\n\u001b[1;32m----> 1\u001b[1;33m \u001b[1;32massert\u001b[0m \u001b[1;32mFalse\u001b[0m\u001b[1;33m\u001b[0m\u001b[1;33m\u001b[0m\u001b[0m\n\u001b[0m",
      "\u001b[1;31mAssertionError\u001b[0m: "
     ]
    }
   ],
   "source": [
    "assert False"
   ]
  },
  {
   "cell_type": "code",
   "execution_count": null,
   "metadata": {},
   "outputs": [],
   "source": [
    "ssd = clean_split(df)"
   ]
  },
  {
   "cell_type": "code",
   "execution_count": null,
   "metadata": {},
   "outputs": [],
   "source": [
    "plt.figure(figsize = (10, 5))\n",
    "plt.plot(range(2,10), ssd, 'bx-')\n",
    "plt.xlabel('KMeans Clusters')\n",
    "plt.ylabel('Inertia')\n",
    "plt.title('Optimal K')\n",
    "plt.vlines(6, min(ssd), max(ssd), linestyles = '--')\n",
    "plt.savefig('figures/KMeans.png')\n",
    "plt.show()"
   ]
  },
  {
   "cell_type": "code",
   "execution_count": null,
   "metadata": {},
   "outputs": [],
   "source": [
    "assert False"
   ]
  },
  {
   "cell_type": "code",
   "execution_count": null,
   "metadata": {},
   "outputs": [],
   "source": [
    "x_train, x_test, y_train, y_test = clean_split(df)\n",
    "test_df = pd.read_csv('data/TrainDF.csv')\n",
    "columns = test_df.columns.tolist()\n",
    "sum_values = test_df.sum() \n",
    "\n",
    "for c, s in zip(columns, sum_values): \n",
    "    print(c, s)"
   ]
  },
  {
   "cell_type": "code",
   "execution_count": null,
   "metadata": {},
   "outputs": [],
   "source": []
  },
  {
   "cell_type": "code",
   "execution_count": null,
   "metadata": {},
   "outputs": [],
   "source": []
  },
  {
   "cell_type": "code",
   "execution_count": null,
   "metadata": {},
   "outputs": [],
   "source": []
  },
  {
   "cell_type": "code",
   "execution_count": null,
   "metadata": {},
   "outputs": [],
   "source": []
  },
  {
   "cell_type": "code",
   "execution_count": null,
   "metadata": {},
   "outputs": [],
   "source": [
    "['abacus', 'yr', 'acerbic', 'bcet', 'beechwood', 'bicycle', 'brian', 'sxsw', 'ce', 'louis', 'mngr', \n",
    "               'rewardswagon', 'loui', 'csuitecsourc', 'wjchat', 'peter', 'bbq', 'au', 'austin', 'awesometim', 'bankinnov', \n",
    "                'barton', 'boooo', 'bookbook', 'zappo', 'zazzlesxsw', 'gswsxsw', 'tmsxsw', 'ye', \n",
    "                'xipad', 'xooom', 'agileag', 'whrrl', 'whi', 'marissamey', 'evolvingworkplac', 'fastsocieti', 'foursquar',\n",
    "                'justin', 'frankeninterfac', 'gowalla']"
   ]
  },
  {
   "cell_type": "code",
   "execution_count": null,
   "metadata": {},
   "outputs": [],
   "source": []
  },
  {
   "cell_type": "code",
   "execution_count": null,
   "metadata": {},
   "outputs": [],
   "source": [
    "from sklearn.ensemble import RandomForestClassifier \n",
    "from sklearn.linear_model import LogisticRegression, RidgeClassifier\n",
    "\n",
    "x_train, x_test, y_train, y_test, test_df = clean_split(2, df)\n",
    "\n",
    "log = LogisticRegression()\n",
    "log.fit(x_train, y_train) \n",
    "\n",
    "print(f'Vanilla Train: {log.score(x_train, y_train)}')\n",
    "print(f'Vanilla Test: {log.score(x_test, y_test)}')\n",
    "print('~~~~~~~~~~~~~~~~~~~~~~~~~~~~~~~~~~~~~~~~~~~~~~~~~~~')\n",
    "\n",
    "\n",
    "\n",
    "ridge = RidgeClassifier(random_state = 10)\n",
    "ridge.fit(x_train, y_train) \n",
    "\n",
    "print(f'Vanilla Train: {ridge.score(x_train, y_train)}')\n",
    "print(f'Vanilla Test: {ridge.score(x_test, y_test)}')\n",
    "print('~~~~~~~~~~~~~~~~~~~~~~~~~~~~~~~~~~~~~~~~~~~~~~~~~~~')\n",
    "\n",
    "\n",
    "rf = RandomForestClassifier(random_state = 10, n_jobs = -1)\n",
    "rf.fit(x_train, y_train) \n",
    "\n",
    "print(f'Vanilla Train: {rf.score(x_train, y_train)}')\n",
    "print(f'Vanilla Test: {rf.score(x_test, y_test)}')"
   ]
  },
  {
   "cell_type": "code",
   "execution_count": null,
   "metadata": {},
   "outputs": [],
   "source": [
    "columns = test_df.columns.tolist()\n",
    "sum_values = test_df.sum() \n",
    "\n",
    "for c, s in zip(columns, sum_values): \n",
    "    print(c, s)\n",
    "    # for c, s in enum_sum: \n",
    "#     print(c, s)"
   ]
  },
  {
   "cell_type": "code",
   "execution_count": null,
   "metadata": {},
   "outputs": [],
   "source": [
    "'dst', 'amp', 'farm', 'fmsignal', 'sxswi'"
   ]
  },
  {
   "cell_type": "code",
   "execution_count": null,
   "metadata": {},
   "outputs": [],
   "source": []
  },
  {
   "cell_type": "code",
   "execution_count": null,
   "metadata": {},
   "outputs": [],
   "source": []
  },
  {
   "cell_type": "code",
   "execution_count": null,
   "metadata": {},
   "outputs": [],
   "source": [
    "rf_pickle = pickle.load(open('../Pickles/Forest_6_clf.p', 'rb'))\n",
    "rf_pickle"
   ]
  },
  {
   "cell_type": "code",
   "execution_count": null,
   "metadata": {},
   "outputs": [],
   "source": [
    "rf_pickle.best_estimator_"
   ]
  },
  {
   "cell_type": "code",
   "execution_count": null,
   "metadata": {},
   "outputs": [],
   "source": [
    "rf = RandomForestClassifier(criterion='entropy', max_depth=25, min_samples_leaf=2,\n",
    "                       oob_score=True, random_state=10)\n",
    "\n",
    "rf.fit(x_train, y_train)\n",
    "print(rf.score(x_train, y_train), rf.score(x_test, y_test))"
   ]
  },
  {
   "cell_type": "code",
   "execution_count": null,
   "metadata": {},
   "outputs": [],
   "source": []
  }
 ],
 "metadata": {
  "kernelspec": {
   "display_name": "Python 3",
   "language": "python",
   "name": "python3"
  },
  "language_info": {
   "codemirror_mode": {
    "name": "ipython",
    "version": 3
   },
   "file_extension": ".py",
   "mimetype": "text/x-python",
   "name": "python",
   "nbconvert_exporter": "python",
   "pygments_lexer": "ipython3",
   "version": "3.7.6"
  }
 },
 "nbformat": 4,
 "nbformat_minor": 4
}
