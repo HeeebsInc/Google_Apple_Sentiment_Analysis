{
 "cells": [
  {
   "cell_type": "code",
   "execution_count": 1,
   "metadata": {},
   "outputs": [],
   "source": [
    "from sklearn.linear_model import SGDClassifier, RidgeClassifier, LogisticRegression \n",
    "from sklearn.neighbors import KNeighborsClassifier\n",
    "from sklearn.naive_bayes import GaussianNB, MultinomialNB\n",
    "from sklearn.svm import SVC,LinearSVC\n",
    "from sklearn.model_selection import RepeatedStratifiedKFold, cross_val_score, GridSearchCV, RandomizedSearchCV\n",
    "from sklearn.metrics import classification_report, plot_confusion_matrix, confusion_matrix\n",
    "import matplotlib.pyplot as plt\n",
    "import seaborn as sns\n",
    "from sklearn.tree import DecisionTreeClassifier\n",
    "from sklearn.ensemble import RandomForestClassifier, StackingClassifier, BaggingClassifier, AdaBoostClassifier\n",
    "from sklearn.discriminant_analysis import LinearDiscriminantAnalysis\n",
    "from tqdm import tqdm\n",
    "from sklearn.preprocessing import StandardScaler\n",
    "import os\n",
    "import pickle\n",
    "import pandas as pd\n",
    "from sklearn.utils import resample\n",
    "from Functions import clean_split\n",
    "\n",
    "\n",
    "pd.options.display.max_rows = 35 \n",
    "pd.options.display.max_columns = None"
   ]
  },
  {
   "cell_type": "code",
   "execution_count": 2,
   "metadata": {},
   "outputs": [
    {
     "name": "stdout",
     "output_type": "stream",
     "text": [
      "Original Value Counts\n",
      "1.0    2978\n",
      "0.0     570\n",
      "Name: Emotion_New, dtype: int64\n",
      "~~~~~~~~~~~~~~~~~~~~~~~~~~~~~~~~~~~~\n",
      "Final Resampled Value Counts\n",
      "1.0    600\n",
      "0.0    570\n",
      "Name: Emotion_New, dtype: int64\n",
      "~~~~~~~~~~~~~~~~~~~~~~~~~~~~~~~~~~~~\n",
      "Finished Pickling\n",
      "(994, 2300) (176, 2300)\n",
      "(994,) (176,)\n"
     ]
    }
   ],
   "source": [
    "\n",
    "\n",
    "df = pd.read_csv('data/TweetsOriginal.csv', encoding = 'ISO-8859-1')\n",
    "x_train, x_test, y_train, y_test = clean_split(2, df)\n",
    "print(x_train.shape, x_test.shape) \n",
    "print(y_train.shape, y_test.shape)"
   ]
  },
  {
   "cell_type": "code",
   "execution_count": 3,
   "metadata": {},
   "outputs": [
    {
     "name": "stdout",
     "output_type": "stream",
     "text": [
      "Vanilla Train: 0.9808853118712274\n",
      "Vanilla Test: 0.8238636363636364\n",
      "~~~~~~~~~~~~~~~~~~~~~~~~~~~~~~~~~~~~~~~~~~~~~~~~~~~\n",
      "Vanilla Train: 0.9949698189134809\n",
      "Vanilla Test: 0.8011363636363636\n",
      "~~~~~~~~~~~~~~~~~~~~~~~~~~~~~~~~~~~~~~~~~~~~~~~~~~~\n",
      "Vanilla Train: 0.9959758551307847\n",
      "Vanilla Test: 0.8011363636363636\n"
     ]
    }
   ],
   "source": [
    "log = LogisticRegression()\n",
    "log.fit(x_train, y_train) \n",
    "\n",
    "print(f'Vanilla Train: {log.score(x_train, y_train)}')\n",
    "print(f'Vanilla Test: {log.score(x_test, y_test)}')\n",
    "print('~~~~~~~~~~~~~~~~~~~~~~~~~~~~~~~~~~~~~~~~~~~~~~~~~~~')\n",
    "\n",
    "\n",
    "\n",
    "ridge = RidgeClassifier(random_state = 10)\n",
    "ridge.fit(x_train, y_train) \n",
    "\n",
    "print(f'Vanilla Train: {ridge.score(x_train, y_train)}')\n",
    "print(f'Vanilla Test: {ridge.score(x_test, y_test)}')\n",
    "print('~~~~~~~~~~~~~~~~~~~~~~~~~~~~~~~~~~~~~~~~~~~~~~~~~~~')\n",
    "\n",
    "\n",
    "rf = RandomForestClassifier(random_state = 10, n_jobs = -1)\n",
    "rf.fit(x_train, y_train) \n",
    "\n",
    "print(f'Vanilla Train: {rf.score(x_train, y_train)}')\n",
    "print(f'Vanilla Test: {rf.score(x_test, y_test)}')"
   ]
  },
  {
   "cell_type": "code",
   "execution_count": null,
   "metadata": {},
   "outputs": [],
   "source": []
  },
  {
   "cell_type": "markdown",
   "metadata": {},
   "source": [
    "### Resampling\n",
    "- 0 = negative\n",
    "- 1 = Positive \n",
    "- 2 = neutral"
   ]
  },
  {
   "cell_type": "code",
   "execution_count": null,
   "metadata": {},
   "outputs": [],
   "source": []
  },
  {
   "cell_type": "code",
   "execution_count": null,
   "metadata": {},
   "outputs": [
    {
     "name": "stderr",
     "output_type": "stream",
     "text": [
      "Evaluating KNN:   8%|███████████▏                                                                                                                          | 1/12 [00:05<00:57,  5.25s/it]"
     ]
    }
   ],
   "source": [
    "models = {'Log': LogisticRegression(), 'Knn': KNeighborsClassifier(), \n",
    "          'DT': DecisionTreeClassifier(random_state = 10), 'Gaussian': GaussianNB(), 'LDA': LinearDiscriminantAnalysis(),\n",
    "          'LinearSVC': LinearSVC(max_iter = 1250, random_state = 10), 'SDGSVC': SGDClassifier(random_state = 10),  \n",
    "          'ADA': AdaBoostClassifier(random_state = 10), 'Bagging': BaggingClassifier(random_state = 10), \n",
    "          'Ridge': RidgeClassifier(random_state = 10), \n",
    "          'RF': RandomForestClassifier(random_state = 10)}\n",
    "\n",
    "#create stacked model\n",
    "stack_m = [] \n",
    "for model, m in models.items(): \n",
    "    stack_m.append((model, m))\n",
    "stack_model = StackingClassifier(estimators = stack_m, final_estimator = LogisticRegression(), cv = 3)\n",
    "models['stacked'] = stack_model\n",
    "\n",
    "#test each model and stacking\n",
    "results = []\n",
    "model_names = []\n",
    "pbar = tqdm(models.items())\n",
    "for model, m in pbar: \n",
    "    pbar.set_description(f'Evaluating {model.upper()}')\n",
    "    cv = RepeatedStratifiedKFold(n_splits = 7, n_repeats = 7)\n",
    "    scores = cross_val_score(m, x_train, y_train, scoring = 'accuracy', cv = cv, n_jobs = 14, \n",
    "                             error_score = 'raise')\n",
    "    results.append(scores)\n",
    "    model_names.append(model)"
   ]
  },
  {
   "cell_type": "code",
   "execution_count": null,
   "metadata": {},
   "outputs": [],
   "source": [
    "vanilla_dict = {i:y for i,y in zip(model_names, results)}\n",
    "pickle.dump(vanilla_dict, open('models/VanillaResults.p', 'wb'))"
   ]
  },
  {
   "cell_type": "code",
   "execution_count": null,
   "metadata": {},
   "outputs": [],
   "source": [
    "plt.figure(figsize = (10,8))\n",
    "plt.boxplot(results, labels = model_names, showmeans = True)\n",
    "plt.title('Accuracy for Each Vanilla Model (Version 1)')\n",
    "plt.ylabel('Accuracy'); plt.xlabel('Model')\n",
    "plt.savefig('figures/BaselineAccuracy.png')\n",
    "plt.show()"
   ]
  },
  {
   "cell_type": "code",
   "execution_count": null,
   "metadata": {},
   "outputs": [],
   "source": [
    "models = {'Log': LogisticRegression(), \n",
    "          'Gaussian': GaussianNB(), \n",
    "          'LinearSVC': LinearSVC(max_iter = 1250, random_state = 10), 'SDGSVC': SGDClassifier(random_state = 10),  \n",
    "          'Ridge': RidgeClassifier(random_state = 10), 'RF': RandomForestClassifier(random_state = 10)}\n",
    "\n",
    "#create stacked model\n",
    "stack_m = [] \n",
    "for model, m in models.items(): \n",
    "    stack_m.append((model, m))\n",
    "stack_model = StackingClassifier(estimators = stack_m, final_estimator = LogisticRegression(), cv = 3)\n",
    "models['stacked'] = stack_model\n",
    "\n",
    "#test each model and stacking\n",
    "results = []\n",
    "model_names = []\n",
    "pbar = tqdm(models.items())\n",
    "for model, m in pbar: \n",
    "    pbar.set_description(f'Evaluating {model.upper()}')\n",
    "    cv = RepeatedStratifiedKFold(n_splits = 7, n_repeats = 7)\n",
    "    scores = cross_val_score(m, x_train, y_train, scoring = 'accuracy', cv = cv, n_jobs = 14, \n",
    "                             error_score = 'raise')\n",
    "    results.append(scores)\n",
    "    model_names.append(model)"
   ]
  },
  {
   "cell_type": "code",
   "execution_count": null,
   "metadata": {},
   "outputs": [],
   "source": [
    "vanilla_dict = {i:y for i,y in zip(model_names, results)}\n",
    "pickle.dump(vanilla_dict, open('models/VanillaResults2.p', 'wb'))"
   ]
  },
  {
   "cell_type": "code",
   "execution_count": null,
   "metadata": {},
   "outputs": [],
   "source": [
    "plt.figure(figsize = (10,8))\n",
    "plt.boxplot(results, labels = model_names, showmeans = True)\n",
    "plt.title('Accuracy for Each Vanilla Model (Version 2)')\n",
    "plt.ylabel('Accuracy'); plt.xlabel('Model')\n",
    "plt.savefig('figures/BaselineAccuracy2.png')\n",
    "plt.show()"
   ]
  },
  {
   "cell_type": "code",
   "execution_count": null,
   "metadata": {},
   "outputs": [],
   "source": [
    "models = {'Log': LogisticRegression(), \n",
    "          'Gaussian': GaussianNB(), \n",
    "          'LinearSVC': LinearSVC(max_iter = 1250, random_state = 10), 'Ridge': RidgeClassifier(random_state = 10), \n",
    "          'RF': RandomForestClassifier(random_state = 10)}\n",
    "\n",
    "#create stacked model\n",
    "stack_m = [] \n",
    "for model, m in models.items(): \n",
    "    stack_m.append((model, m))\n",
    "stack_model = StackingClassifier(estimators = stack_m, final_estimator = LogisticRegression(), cv = 3)\n",
    "models['stacked'] = stack_model\n",
    "\n",
    "#test each model and stacking\n",
    "results = []\n",
    "model_names = []\n",
    "pbar = tqdm(models.items())\n",
    "for model, m in pbar: \n",
    "    pbar.set_description(f'Evaluating {model.upper()}')\n",
    "    cv = RepeatedStratifiedKFold(n_splits = 7, n_repeats = 7)\n",
    "    scores = cross_val_score(m, x_train, y_train, scoring = 'accuracy', cv = cv, n_jobs = 14, \n",
    "                             error_score = 'raise')\n",
    "    results.append(scores)\n",
    "    model_names.append(model)"
   ]
  },
  {
   "cell_type": "code",
   "execution_count": null,
   "metadata": {},
   "outputs": [],
   "source": [
    "vanilla_dict = {i:y for i,y in zip(model_names, results)}\n",
    "pickle.dump(vanilla_dict, open('models/VanillaResults3.p', 'wb'))"
   ]
  },
  {
   "cell_type": "code",
   "execution_count": null,
   "metadata": {},
   "outputs": [],
   "source": [
    "plt.figure(figsize = (10,8))\n",
    "plt.boxplot(results, labels = model_names, showmeans = True)\n",
    "plt.title('Accuracy for Each Vanilla Model (Version 3)')\n",
    "plt.ylabel('Accuracy'); plt.xlabel('Model')\n",
    "plt.savefig('figures/BaselineAccuracy2.png')\n",
    "plt.show()"
   ]
  },
  {
   "cell_type": "code",
   "execution_count": null,
   "metadata": {},
   "outputs": [],
   "source": [
    "assert False"
   ]
  },
  {
   "cell_type": "markdown",
   "metadata": {},
   "source": [
    "### Logistic Regression"
   ]
  },
  {
   "cell_type": "code",
   "execution_count": null,
   "metadata": {},
   "outputs": [],
   "source": [
    "log = LogisticRegression()\n",
    "log.fit(x_train, y_train) \n",
    "\n",
    "print(f'Vanilla Train: {log.score(x_train, y_train)}')\n",
    "print(f'Vanilla Test: {log.score(x_test, y_test)}')"
   ]
  },
  {
   "cell_type": "code",
   "execution_count": null,
   "metadata": {},
   "outputs": [],
   "source": []
  },
  {
   "cell_type": "code",
   "execution_count": null,
   "metadata": {},
   "outputs": [],
   "source": []
  },
  {
   "cell_type": "code",
   "execution_count": null,
   "metadata": {},
   "outputs": [],
   "source": []
  },
  {
   "cell_type": "code",
   "execution_count": null,
   "metadata": {},
   "outputs": [],
   "source": []
  },
  {
   "cell_type": "code",
   "execution_count": null,
   "metadata": {},
   "outputs": [],
   "source": []
  },
  {
   "cell_type": "code",
   "execution_count": null,
   "metadata": {},
   "outputs": [],
   "source": [
    "vectorizer = pickle.load(open('../Pickles/Vectorizer.p', 'rb'))\n",
    "\n",
    "rand_sent = 'i love apple'\n",
    "\n",
    "new_sent = vectorizer.transform([rand_sent]).toarray()\n",
    "\n",
    "log.predict_proba(new_sent)"
   ]
  }
 ],
 "metadata": {
  "kernelspec": {
   "display_name": "Python 3",
   "language": "python",
   "name": "python3"
  },
  "language_info": {
   "codemirror_mode": {
    "name": "ipython",
    "version": 3
   },
   "file_extension": ".py",
   "mimetype": "text/x-python",
   "name": "python",
   "nbconvert_exporter": "python",
   "pygments_lexer": "ipython3",
   "version": "3.7.6"
  }
 },
 "nbformat": 4,
 "nbformat_minor": 4
}
