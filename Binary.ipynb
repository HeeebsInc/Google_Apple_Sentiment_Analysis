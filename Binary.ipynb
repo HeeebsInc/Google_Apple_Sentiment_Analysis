{
 "cells": [
  {
   "cell_type": "code",
   "execution_count": 10,
   "metadata": {},
   "outputs": [],
   "source": [
    "import Functions as F\n",
    "from sklearn.linear_model import SGDClassifier, RidgeClassifier, LogisticRegression\n",
    "from sklearn.naive_bayes import GaussianNB, MultinomialNB\n",
    "from sklearn.svm import SVC,LinearSVC\n",
    "from sklearn.model_selection import RepeatedStratifiedKFold, cross_val_score, GridSearchCV, RandomizedSearchCV\n",
    "from sklearn.metrics import classification_report, plot_confusion_matrix, confusion_matrix\n",
    "import matplotlib.pyplot as plt\n",
    "import seaborn as sns\n",
    "from sklearn.tree import DecisionTreeClassifier\n",
    "from sklearn.ensemble import RandomForestClassifier, StackingClassifier, BaggingClassifier, AdaBoostClassifier\n",
    "from sklearn.discriminant_analysis import LinearDiscriminantAnalysis\n",
    "from tqdm import tqdm\n",
    "from sklearn.preprocessing import StandardScaler\n",
    "import os\n",
    "import pickle\n",
    "import pandas as pd\n",
    "from sklearn.utils import resample\n",
    "\n",
    "pd.options.display.max_rows = 35 \n",
    "pd.options.display.max_columns = None"
   ]
  },
  {
   "cell_type": "code",
   "execution_count": 9,
   "metadata": {},
   "outputs": [
    {
     "name": "stdout",
     "output_type": "stream",
     "text": [
      "(2661, 5000) (887, 5000)\n",
      "(2661,) (887,)\n"
     ]
    }
   ],
   "source": [
    "def get_pickles(): \n",
    "    x_train = pickle.load(open('../Pickles/2_x_train.p', 'rb'))\n",
    "    x_test = pickle.load(open('../Pickles/2_x_test.p', 'rb'))\n",
    "    y_train = pickle.load(open('../Pickles/2_y_train.p', 'rb'))\n",
    "    y_test = pickle.load(open('../Pickles/2_y_test.p', 'rb'))\n",
    "    return x_train, x_test, y_train, y_test\n",
    "\n",
    "\n",
    "x_train, x_test, y_train, y_test = get_pickles()\n",
    "print(x_train.shape, x_test.shape) \n",
    "print(y_train.shape, y_test.shape)"
   ]
  },
  {
   "cell_type": "code",
   "execution_count": 13,
   "metadata": {},
   "outputs": [
    {
     "name": "stderr",
     "output_type": "stream",
     "text": [
      "\n",
      "  0%|          | 0/10 [00:00<?, ?it/s]\n",
      "Evaluating DT:   0%|          | 0/10 [00:00<?, ?it/s]\n",
      "Evaluating DT:  10%|█         | 1/10 [04:50<43:38, 290.96s/it]\n",
      "Evaluating GAUSSIAN:  10%|█         | 1/10 [04:50<43:38, 290.96s/it]\n",
      "Evaluating GAUSSIAN:  20%|██        | 2/10 [04:56<27:22, 205.29s/it]\n",
      "Evaluating LDA:  20%|██        | 2/10 [04:56<27:22, 205.29s/it]     \n",
      "Evaluating LDA:  30%|███       | 3/10 [08:27<24:09, 207.05s/it]\n",
      "Evaluating LINEARSVC:  30%|███       | 3/10 [08:27<24:09, 207.05s/it]\n",
      "Evaluating LINEARSVC:  40%|████      | 4/10 [08:30<14:35, 145.93s/it]\n",
      "Evaluating SDGSVC:  40%|████      | 4/10 [08:30<14:35, 145.93s/it]   \n",
      "Evaluating SDGSVC:  50%|█████     | 5/10 [08:39<08:43, 104.68s/it]\n",
      "Evaluating ADA:  50%|█████     | 5/10 [08:39<08:43, 104.68s/it]   \n",
      "Evaluating ADA:  60%|██████    | 6/10 [11:45<08:36, 129.13s/it]\n",
      "Evaluating BAGGING:  60%|██████    | 6/10 [11:45<08:36, 129.13s/it]\n",
      "Evaluating BAGGING:  70%|███████   | 7/10 [21:09<12:58, 259.59s/it]\n",
      "Evaluating RIDGE:  70%|███████   | 7/10 [21:09<12:58, 259.59s/it]  \n",
      "Evaluating RIDGE:  80%|████████  | 8/10 [21:33<06:17, 188.79s/it]\n",
      "Evaluating RF:  80%|████████  | 8/10 [21:33<06:17, 188.79s/it]   \n",
      "Evaluating RF:  90%|█████████ | 9/10 [27:00<03:50, 230.51s/it]\n",
      "Evaluating STACKED:  90%|█████████ | 9/10 [27:00<03:50, 230.51s/it]\n",
      "Evaluating STACKED: 100%|██████████| 10/10 [2:01:14<00:00, 727.44s/it] \n"
     ]
    }
   ],
   "source": [
    "models = {'DT': DecisionTreeClassifier(),\n",
    "          'Gaussian': GaussianNB(),\n",
    "          'LDA': LinearDiscriminantAnalysis(),\n",
    "          'LinearSVC': LinearSVC(max_iter = 1250),\n",
    "          'SDGSVC': SGDClassifier(),  \n",
    "          'ADA': AdaBoostClassifier(),\n",
    "          'Bagging': BaggingClassifier(),\n",
    "          'Ridge': RidgeClassifier(), \n",
    "          'RF': RandomForestClassifier()}\n",
    "\n",
    "#create stacked model\n",
    "stack_m = [] \n",
    "for model, m in models.items(): \n",
    "    stack_m.append((model, m))\n",
    "stack_model = StackingClassifier(estimators = stack_m, final_estimator = LogisticRegression(), cv = 5)\n",
    "models['stacked'] = stack_model\n",
    "\n",
    "#test each model and stacking\n",
    "results = []\n",
    "model_names = []\n",
    "pbar = tqdm(models.items())\n",
    "for model, m in pbar: \n",
    "    pbar.set_description(f'Evaluating {model.upper()}')\n",
    "    cv = RepeatedStratifiedKFold(n_splits = 5, n_repeats = 5)\n",
    "    scores = cross_val_score(m, x_train, y_train, scoring = 'accuracy', cv = cv, n_jobs = 2, \n",
    "                             error_score = 'raise')\n",
    "    results.append(scores)\n",
    "    model_names.append(model)"
   ]
  },
  {
   "cell_type": "code",
   "execution_count": null,
   "metadata": {},
   "outputs": [],
   "source": [
    "vanilla_dict = {i:y for i,y in zip(model_names, results)}\n",
    "pickle.dump(vanilla_dict, open('../models/VanillaResults.p', 'wb'))"
   ]
  },
  {
   "cell_type": "code",
   "execution_count": 25,
   "metadata": {},
   "outputs": [
    {
     "data": {
      "image/png": "[encoded data removed]",
      "text/plain": [
       "<Figure size 720x576 with 1 Axes>"
      ]
     },
     "metadata": {
      "needs_background": "light"
     },
     "output_type": "display_data"
    }
   ],
   "source": [
    "plt.figure(figsize = (10,8))\n",
    "plt.boxplot(results, labels = model_names, showmeans = True)\n",
    "plt.title('Accuracy for Each Vanilla Model')\n",
    "plt.ylabel('Accuracy'); plt.xlabel('Model')\n",
    "plt.savefig('../figures/Binary_2_BaselineAccuracy.png')\n",
    "plt.show()"
   ]
  },
  {
   "cell_type": "code",
   "execution_count": 20,
   "metadata": {},
   "outputs": [
    {
     "name": "stdout",
     "output_type": "stream",
     "text": [
      "Original Train Value Counts\n",
      "1.0    2233\n",
      "0.0     428\n",
      "Name: Emotion_New, dtype: int64\n",
      "~~~~~~~~~~~~~~~~~~~~~~~~~~~~~~~~~~~~\n",
      "Original Test Value Counts\n",
      "1.0    745\n",
      "0.0    142\n",
      "Name: Emotion_New, dtype: int64\n",
      "~~~~~~~~~~~~~~~~~~~~~~~~~~~~~~~~~~~~\n",
      "Final Resampled Value Counts\n",
      "1.0    500\n",
      "0.0    428\n",
      "Name: target, dtype: int64\n",
      "~~~~~~~~~~~~~~~~~~~~~~~~~~~~~~~~~~~~~~~~\n"
     ]
    }
   ],
   "source": [
    "print('Original Train Value Counts')\n",
    "print(y_train.value_counts())\n",
    "print('~~~~~~~~~~~~~~~~~~~~~~~~~~~~~~~~~~~~')\n",
    "print('Original Test Value Counts')\n",
    "print(y_test.value_counts())\n",
    "print('~~~~~~~~~~~~~~~~~~~~~~~~~~~~~~~~~~~~')\n",
    "\n",
    "\n",
    "train_df = pd.DataFrame(x_train)\n",
    "train_df['target'] = y_train.values \n",
    "\n",
    "neg_df = train_df[train_df.target == 0]\n",
    "pos_df = train_df[train_df.target == 1]\n",
    "\n",
    "\n",
    "\n",
    "resample_pos = resample(pos_df, n_samples = 500, random_state = 10, replace = False)\n",
    "# resample_neut = resample(neut_df, n_samples = 500, random_state = 10, replace = False)\n",
    "\n",
    "final_df= neg_df.append(resample_pos, ignore_index = True)\n",
    "# final_df = final_df.append(resample_neut, ignore_index = True)\n",
    "print('Final Resampled Value Counts')\n",
    "print(final_df.target.value_counts())\n",
    "print('~~~~~~~~~~~~~~~~~~~~~~~~~~~~~~~~~~~~~~~~')\n",
    "\n",
    "\n",
    "x_train_new = final_df[[i for i in final_df.columns if i != 'target']]\n",
    "y_train_new = final_df[['target']].values.ravel()"
   ]
  },
  {
   "cell_type": "code",
   "execution_count": 21,
   "metadata": {},
   "outputs": [
    {
     "name": "stderr",
     "output_type": "stream",
     "text": [
      "\n",
      "  0%|          | 0/9 [00:00<?, ?it/s]\n",
      "Evaluating DT:   0%|          | 0/9 [00:00<?, ?it/s]\n",
      "Evaluating DT:  11%|█         | 1/9 [00:12<01:40, 12.56s/it]\n",
      "Evaluating GAUSSIAN:  11%|█         | 1/9 [00:12<01:40, 12.56s/it]\n",
      "Evaluating GAUSSIAN:  22%|██▏       | 2/9 [00:15<01:07,  9.61s/it]\n",
      "Evaluating LINEARSVC:  22%|██▏       | 2/9 [00:15<01:07,  9.61s/it]\n",
      "Evaluating LINEARSVC:  33%|███▎      | 3/9 [00:17<00:43,  7.33s/it]\n",
      "Evaluating SDGSVC:  33%|███▎      | 3/9 [00:17<00:43,  7.33s/it]   \n",
      "Evaluating SDGSVC:  44%|████▍     | 4/9 [00:20<00:30,  6.20s/it]\n",
      "Evaluating ADA:  44%|████▍     | 4/9 [00:20<00:30,  6.20s/it]   \n",
      "Evaluating ADA:  56%|█████▌    | 5/9 [01:24<01:33, 23.36s/it]\n",
      "Evaluating BAGGING:  56%|█████▌    | 5/9 [01:24<01:33, 23.36s/it]\n",
      "Evaluating BAGGING:  67%|██████▋   | 6/9 [01:52<01:14, 24.91s/it]\n",
      "Evaluating RIDGE:  67%|██████▋   | 6/9 [01:52<01:14, 24.91s/it]  \n",
      "Evaluating RIDGE:  78%|███████▊  | 7/9 [01:56<00:37, 18.61s/it]\n",
      "Evaluating RF:  78%|███████▊  | 7/9 [01:56<00:37, 18.61s/it]   \n",
      "Evaluating RF:  89%|████████▉ | 8/9 [02:32<00:23, 23.68s/it]\n",
      "Evaluating STACKED:  89%|████████▉ | 8/9 [02:32<00:23, 23.68s/it]\n",
      "Evaluating STACKED: 100%|██████████| 9/9 [13:59<00:00, 93.26s/it] \n"
     ]
    }
   ],
   "source": [
    "models = {'DT': DecisionTreeClassifier(random_state= 10),\n",
    "          'Gaussian': GaussianNB(),\n",
    "          'LinearSVC': LinearSVC(max_iter = 1250),\n",
    "          'SDGSVC': SGDClassifier(),  \n",
    "          'ADA': AdaBoostClassifier(),\n",
    "          'Bagging': BaggingClassifier(),\n",
    "          'Ridge': RidgeClassifier(), \n",
    "          'RF': RandomForestClassifier(random_state= 10)}\n",
    "\n",
    "#create stacked model\n",
    "stack_m = [] \n",
    "for model, m in models.items(): \n",
    "    stack_m.append((model, m))\n",
    "stack_model = StackingClassifier(estimators = stack_m, final_estimator = LogisticRegression(), cv = 5)\n",
    "models['stacked'] = stack_model\n",
    "\n",
    "#test each model and stacking\n",
    "results = []\n",
    "model_names = []\n",
    "pbar = tqdm(models.items())\n",
    "for model, m in pbar: \n",
    "    pbar.set_description(f'Evaluating {model.upper()}')\n",
    "    cv = RepeatedStratifiedKFold(n_splits = 5, n_repeats = 5)\n",
    "    scores = cross_val_score(m, x_train_new, y_train_new, scoring = 'accuracy', cv = cv, n_jobs = 2, \n",
    "                             error_score = 'raise')\n",
    "    results.append(scores)\n",
    "    model_names.append(model)"
   ]
  },
  {
   "cell_type": "code",
   "execution_count": 24,
   "metadata": {},
   "outputs": [],
   "source": [
    "vanilla_dict = {i:y for i,y in zip(model_names, results)}\n",
    "pickle.dump(vanilla_dict, open('../models/Binary_2_VanillaResults.p', 'wb'))"
   ]
  },
  {
   "cell_type": "code",
   "execution_count": 25,
   "metadata": {},
   "outputs": [
    {
     "data": {
      "image/png": "[encoded data removed]",
      "text/plain": [
       "<Figure size 720x576 with 1 Axes>"
      ]
     },
     "metadata": {
      "needs_background": "light"
     },
     "output_type": "display_data"
    }
   ],
   "source": [
    "plt.figure(figsize = (10,8))\n",
    "plt.boxplot(results, labels = model_names, showmeans = True)\n",
    "plt.title('Accuracy for Each Vanilla Model')\n",
    "plt.ylabel('Accuracy'); plt.xlabel('Model')\n",
    "plt.savefig('../figures/Binary_2_BaselineAccuracy.png')\n",
    "plt.show()"
   ]
  }
 ],
 "metadata": {
  "kernelspec": {
   "display_name": "learn-env",
   "language": "python",
   "name": "learn-env"
  },
  "language_info": {
   "codemirror_mode": {
    "name": "ipython",
    "version": 3
   },
   "file_extension": ".py",
   "mimetype": "text/x-python",
   "name": "python",
   "nbconvert_exporter": "python",
   "pygments_lexer": "ipython3",
   "version": "3.6.9"
  }
 },
 "nbformat": 4,
 "nbformat_minor": 4
}
